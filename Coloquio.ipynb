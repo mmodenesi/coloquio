{
 "cells": [
  {
   "cell_type": "markdown",
   "metadata": {},
   "source": [
    "Suponga que se tiene 1 mol de oxígeno a 300K y 1atm en un volumen cúbico calcular:\n",
    "\n",
    "- (a)  El lado del cubo\n",
    "- (b)  Las velocidades media, cuadrática media y la más probable de las partículas.\n",
    "- (c)  ¿qué puede decir de lo anterior?  ¿La distribución es normal?\n",
    "- (d)  La fuerza que se ejerce sobre una pared de la caja. Calcule de manera macroscópica y plantee (y si puede calcule) como debería hacer este calculo usando la teoría cinética suponiendo choques perfectamente elásticos."
   ]
  },
  {
   "cell_type": "code",
   "execution_count": 1,
   "metadata": {},
   "outputs": [],
   "source": [
    "### Constantes\n",
    "\n",
    "NA = 6.0221415e23 # Número de Avogadro\n",
    "Mol = NA * 10**23 # Mol\n",
    "MMo = 0.0159994   # Masa molar de átomo de oxígeno\n",
    "MMo2 = 2 * MMo    # Masa molar de átomo de O₂\n",
    "Mo2 = MMo2 / NA   # Masa de molécula de O₂\n",
    "k = 1.3806488e-23 # Constante de Boltzmann\n",
    "\n",
    "### Datos del Problema\n",
    "\n",
    "T = 300     # Temperatura en Kelvin\n",
    "p = 101325  # Presion en atm, 1 atm = 1.013 × 10^5 Pa\n",
    "n_mols = 1  # Número de moles\n",
    "\n",
    "# Constante de los gases\n",
    "R = 8.3144621  # J / (Mol · K)"
   ]
  },
  {
   "cell_type": "markdown",
   "metadata": {},
   "source": [
    "## a) Lado del cubo\n",
    "\n",
    "Utilizando la ecuación del gas ideal (18.3)\n",
    "\n",
    "$$\n",
    "pV = nRT\n",
    "$$"
   ]
  },
  {
   "cell_type": "code",
   "execution_count": 2,
   "metadata": {},
   "outputs": [
    {
     "name": "stdout",
     "output_type": "stream",
     "text": [
      "El gas ocupa un volúmen de 0.025 m³ en forma de cubo.\n",
      "Dicho cubo tiene un lado de 0.291 m.\n"
     ]
    }
   ],
   "source": [
    "V = n_mols * R * T / p\n",
    "lado = V ** (1/3)\n",
    "\n",
    "print(f'El gas ocupa un volúmen de {V:.3f} m³ en forma de cubo.')\n",
    "print(f'Dicho cubo tiene un lado de {lado:.3f} m.')"
   ]
  },
  {
   "cell_type": "markdown",
   "metadata": {},
   "source": [
    "Utilizando la ecuación de van der Waals (18.7)\n",
    "$$\n",
    "\\left(p + \\frac{an^2}{V^2}\\right)(V - nb) = n R T\n",
    "$$\n",
    "\n",
    "donde $a = 1.383 \\frac{J\\cdot m^3}{mol^2}$ y $b = 0.03186 \\frac{m^3}{mol}$."
   ]
  },
  {
   "cell_type": "code",
   "execution_count": 3,
   "metadata": {},
   "outputs": [
    {
     "name": "stdout",
     "output_type": "stream",
     "text": [
      "El gas ocupa un volúmen de 0.056 m³ en forma de cubo.\n",
      "Dicho cubo tiene un lado de 0.383 m.\n"
     ]
    }
   ],
   "source": [
    "import sympy\n",
    "\n",
    "# https://en.wikipedia.org/wiki/Van_der_Waals_constants_(data_page)\n",
    "a = 1.383\n",
    "b = 0.03186\n",
    "\n",
    "# variable objetivo\n",
    "var_V = sympy.symbols('V')\n",
    "\n",
    "# ecuación 18.7\n",
    "expr = sympy.Eq(\n",
    "    (p + a * n_mols ** 2 / var_V **2) * (var_V - n_mols * b),\n",
    "    n_mols * R * T\n",
    ")\n",
    "\n",
    "# resolvemos para V\n",
    "V = sympy.solve(expr, var_V)[0]\n",
    "\n",
    "print(f'El gas ocupa un volúmen de {V:.3f} m³ en forma de cubo.')\n",
    "print(f'Dicho cubo tiene un lado de {V ** (1/3):.3f} m.')"
   ]
  },
  {
   "cell_type": "markdown",
   "metadata": {},
   "source": [
    "## b) Velocidades\n",
    "\n",
    "Para la velocidad cuadrática media usamos la ecuación 18.16:\n",
    "\n",
    "$$\n",
    "\\frac{1}{2} m (v^2)_{av} = \\frac{3}{2} k T \n",
    "$$\n",
    "\n",
    "Donde $k$ es la constante de Boltzmann. Dicha ecuación puede reescribirse en términos de los valores que ya conocemos del siguiente modo:\n",
    "\n",
    "\n",
    "$$\n",
    "\\frac{1}{2} M (v^2)_{av} = \\frac{3}{2} R T \n",
    "$$\n",
    "\n",
    "a partir de lo cual\n",
    "\n",
    "$$\n",
    "(v^2)_{av} = \\frac{3RT}{M}\n",
    "$$"
   ]
  },
  {
   "cell_type": "code",
   "execution_count": 7,
   "metadata": {},
   "outputs": [
    {
     "name": "stdout",
     "output_type": "stream",
     "text": [
      "Velocidad cuadrática media: 233853.016 m²/s²\n"
     ]
    }
   ],
   "source": [
    "smv = 3 * R * T / MMo2\n",
    "print(f'Velocidad cuadrática media: {smv:.3f} m²/s²')"
   ]
  },
  {
   "cell_type": "markdown",
   "metadata": {},
   "source": [
    "Para la velocidad media simplemente calculamos la raiz cuadrada de el último valor"
   ]
  },
  {
   "cell_type": "code",
   "execution_count": 8,
   "metadata": {},
   "outputs": [
    {
     "name": "stdout",
     "output_type": "stream",
     "text": [
      "Velocidad media: 483.584 m/s\n"
     ]
    }
   ],
   "source": [
    "from math import sqrt\n",
    "print(f'Velocidad media: {sqrt(smv):.3f} m/s')"
   ]
  },
  {
   "cell_type": "markdown",
   "metadata": {},
   "source": [
    "Para la velocidad más probable utilizamos la ecuación 18.34\n",
    "\n",
    "$$\n",
    "v_{mp} = \\sqrt{\\frac{2kT}{m}}\n",
    "$$\n",
    "\n",
    "Que también puede ser expresada en términos de los datos que ya hemos definido como\n",
    "\n",
    "$$\n",
    "v_{mp} = \\sqrt{\\frac{2RT}{M}}\n",
    "$$\n"
   ]
  },
  {
   "cell_type": "code",
   "execution_count": 9,
   "metadata": {},
   "outputs": [
    {
     "name": "stdout",
     "output_type": "stream",
     "text": [
      "Velocidad más probable: 394.844 m/s\n"
     ]
    }
   ],
   "source": [
    "mpv = sqrt(2 * R * T / MMo2)\n",
    "print(f'Velocidad más probable: {mpv:.3f} m/s')"
   ]
  },
  {
   "cell_type": "markdown",
   "metadata": {},
   "source": [
    "Utilizando la función de Maxwell-Botzmann como una distribución de probabilidad para distintos valores de velocidad de las moléculas, observamos:"
   ]
  },
  {
   "cell_type": "code",
   "execution_count": 10,
   "metadata": {},
   "outputs": [
    {
     "data": {
      "image/png": "[encoded data removed]",
      "text/plain": [
       "<Figure size 432x288 with 1 Axes>"
      ]
     },
     "metadata": {
      "needs_background": "light"
     },
     "output_type": "display_data"
    }
   ],
   "source": [
    "import numpy as np\n",
    "from matplotlib import pyplot as plt\n",
    "from math import pi, e\n",
    "\n",
    "v = np.arange(0., 1200., dtype='float')\n",
    "coef1 = 4 * pi * (Mo2 / (2 * pi * k * T)) ** (3/2)\n",
    "p_v = coef1 * (v ** 2) * e ** (-Mo2 * v ** 2 / (2 * k * T))\n",
    "\n",
    "plt.figure()\n",
    "plt.plot(v, p_v, '.')\n",
    "plt.title('f(v)')\n",
    "plt.xlabel('v')\n",
    "plt.ylabel('f(v)')\n",
    "plt.show()"
   ]
  },
  {
   "cell_type": "markdown",
   "metadata": {},
   "source": [
    "## c)\n",
    "\n",
    "La distribución anterior es una distribución Maxwell-Boltzmann. No podría ser una distribución Normal, ya que no es simétrica.\n",
    "\n",
    "Su fórmula es:\n",
    "$$\n",
    "f(v) = 4{\\pi} \\left(\\frac{m}{2{\\pi}kT}\\right)^\\frac{3}{2} v^2 e^\\frac{-mv^2}{2kT}\n",
    "$$\n",
    "\n",
    "Esta distribución es, de hecho, el producto de tres variables aleatorias normales, $p_x, p_y, p_z$ con varianza $mkT$."
   ]
  },
  {
   "cell_type": "markdown",
   "metadata": {},
   "source": [
    "## d) Fuerza sobre una pared de la caja\n",
    "\n",
    "Utilizamos\n",
    "\n",
    "$$\n",
    "p = \\frac{F}{A}\n",
    "$$"
   ]
  },
  {
   "cell_type": "code",
   "execution_count": 11,
   "metadata": {},
   "outputs": [
    {
     "name": "stdout",
     "output_type": "stream",
     "text": [
      "El gas ejerce una fuerza de 51447.040 N\n"
     ]
    }
   ],
   "source": [
    "# area total\n",
    "A = 6 * lado ** 2\n",
    "\n",
    "F = p * A\n",
    "\n",
    "# FIXME: hay que dividir por 6?\n",
    "\n",
    "print(f'El gas ejerce una fuerza de {F:.3f} N')"
   ]
  }
 ],
 "metadata": {
  "kernelspec": {
   "display_name": "Python 3",
   "language": "python",
   "name": "python3"
  },
  "language_info": {
   "codemirror_mode": {
    "name": "ipython",
    "version": 3
   },
   "file_extension": ".py",
   "mimetype": "text/x-python",
   "name": "python",
   "nbconvert_exporter": "python",
   "pygments_lexer": "ipython3",
   "version": "3.8.5"
  }
 },
 "nbformat": 4,
 "nbformat_minor": 4
}
